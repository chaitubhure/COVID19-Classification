{
  "nbformat": 4,
  "nbformat_minor": 0,
  "metadata": {
    "gist": {
      "data": {
        "description": "Implementing Darknet19 from scratch using fast.ai - MNIST",
        "public": true
      },
      "id": ""
    },
    "kernelspec": {
      "display_name": "Python 3",
      "language": "python",
      "name": "python3"
    },
    "language_info": {
      "codemirror_mode": {
        "name": "ipython",
        "version": 3
      },
      "file_extension": ".py",
      "mimetype": "text/x-python",
      "name": "python",
      "nbconvert_exporter": "python",
      "pygments_lexer": "ipython3",
      "version": "3.7.0"
    },
    "colab": {
      "name": "COVID19-Classification.ipynb",
      "provenance": [],
      "toc_visible": true
    },
    "accelerator": "GPU"
  },
  "cells": [
    {
      "cell_type": "markdown",
      "metadata": {
        "id": "pIbYAkKFOCpl"
      },
      "source": [
        "# Readme\n",
        "\n",
        "\n",
        "1.   Run all the cells in order.\n",
        "2.   Torch versions are specified to suppress warnings\n",
        "3.   Git directory cloned to have the dataset available for each runtime\n",
        "4.   DarkCovidNet model is sourced from the same github repository\n",
        "5.   DenseNet121, DenseNet169, ResNet34 are all implemented in Fastai\n",
        "\n",
        "\n"
      ]
    },
    {
      "cell_type": "code",
      "metadata": {
        "id": "l8W5FWpxf4N0"
      },
      "source": [
        "!pip install \"torch==1.4\" \"torchvision==0.5.0\""
      ],
      "execution_count": null,
      "outputs": []
    },
    {
      "cell_type": "code",
      "metadata": {
        "id": "U7XkAA22VHc0"
      },
      "source": [
        "%reload_ext autoreload\n",
        "%autoreload 2\n",
        "%matplotlib inline"
      ],
      "execution_count": null,
      "outputs": []
    },
    {
      "cell_type": "code",
      "metadata": {
        "id": "cJUhRhQCVHc6"
      },
      "source": [
        "import fastai\n",
        "from fastai.vision import *"
      ],
      "execution_count": null,
      "outputs": []
    },
    {
      "cell_type": "code",
      "metadata": {
        "id": "eZbuUFcxWPoo"
      },
      "source": [
        "!git clone https://github.com/muhammedtalo/COVID-19.git"
      ],
      "execution_count": null,
      "outputs": []
    },
    {
      "cell_type": "markdown",
      "metadata": {
        "id": "5EUA-STHVHc7"
      },
      "source": [
        "### Data"
      ]
    },
    {
      "cell_type": "code",
      "metadata": {
        "id": "hnqja-V4VHc7"
      },
      "source": [
        "path = Path('/content/COVID-19/X-Ray Image DataSet')"
      ],
      "execution_count": null,
      "outputs": []
    },
    {
      "cell_type": "code",
      "metadata": {
        "id": "XyoZqFAEVHc8"
      },
      "source": [
        "np.random.seed(41)\n",
        "data = ImageDataBunch.from_folder(path, train=\".\", valid_pct=0.2,\n",
        "        ds_tfms=get_transforms(), size=(256,256), bs=32, num_workers=4).normalize()"
      ],
      "execution_count": null,
      "outputs": []
    },
    {
      "cell_type": "code",
      "metadata": {
        "id": "e9pasSjEVHc8"
      },
      "source": [
        "data.classes, data.c, len(data.train_ds), len(data.valid_ds)"
      ],
      "execution_count": null,
      "outputs": []
    },
    {
      "cell_type": "code",
      "metadata": {
        "id": "w0slOWLnVHc9"
      },
      "source": [
        "print(\"Number of examples in training:\", len(data.train_ds))\n",
        "print(\"Number of examples in validation:\", len(data.valid_ds))"
      ],
      "execution_count": null,
      "outputs": []
    },
    {
      "cell_type": "code",
      "metadata": {
        "id": "a4jk0OKnVHc-"
      },
      "source": [
        "xb,yb = data.one_batch()\n",
        "xb.shape,yb.shape"
      ],
      "execution_count": null,
      "outputs": []
    },
    {
      "cell_type": "code",
      "metadata": {
        "id": "BEhYmR38VHc-"
      },
      "source": [
        "#Sample images from the dataset\n",
        "data.show_batch(rows=3, figsize=(10,10))"
      ],
      "execution_count": null,
      "outputs": []
    },
    {
      "cell_type": "markdown",
      "metadata": {
        "id": "v3bWQooZVHc_"
      },
      "source": [
        "## DarkCovidNet (modified Darknet model)"
      ]
    },
    {
      "cell_type": "code",
      "metadata": {
        "id": "lsY_Q8FzVHdA"
      },
      "source": [
        "def conv_block(ni, nf, size=3, stride=1):\n",
        "    for_pad = lambda s: s if s > 2 else 3\n",
        "    return nn.Sequential(\n",
        "        nn.Conv2d(ni, nf, kernel_size=size, stride=stride,\n",
        "                  padding=(for_pad(size) - 1)//2, bias=False), \n",
        "        nn.BatchNorm2d(nf),\n",
        "        nn.LeakyReLU(negative_slope=0.1, inplace=True)  \n",
        "    )"
      ],
      "execution_count": null,
      "outputs": []
    },
    {
      "cell_type": "code",
      "metadata": {
        "id": "86g1R3XHVHdA"
      },
      "source": [
        "def triple_conv(ni, nf):\n",
        "    return nn.Sequential(\n",
        "        conv_block(ni, nf),\n",
        "        conv_block(nf, ni, size=1),  \n",
        "        conv_block(ni, nf)\n",
        "    )"
      ],
      "execution_count": null,
      "outputs": []
    },
    {
      "cell_type": "code",
      "metadata": {
        "id": "KxxYQx82VHdA"
      },
      "source": [
        "def maxpooling():\n",
        "    return nn.MaxPool2d(2, stride=2)"
      ],
      "execution_count": null,
      "outputs": []
    },
    {
      "cell_type": "code",
      "metadata": {
        "id": "LRZsfrQVVHdA"
      },
      "source": [
        "model = nn.Sequential(\n",
        "    conv_block(3, 8),\n",
        "    maxpooling(),\n",
        "    conv_block(8, 16),\n",
        "    maxpooling(),\n",
        "    triple_conv(16, 32),\n",
        "    maxpooling(),\n",
        "    triple_conv(32, 64),\n",
        "    maxpooling(),\n",
        "    triple_conv(64, 128),\n",
        "    maxpooling(),\n",
        "    triple_conv(128, 256),\n",
        "    conv_block(256, 128, size=1),\n",
        "    conv_block(128, 256),\n",
        "    conv_layer(256, 2),\n",
        "    Flatten(),\n",
        "    nn.Linear(338, 2)\n",
        ")"
      ],
      "execution_count": null,
      "outputs": []
    },
    {
      "cell_type": "code",
      "metadata": {
        "id": "jEhMp8DCVHdB"
      },
      "source": [
        "learn = Learner(data, model, loss_func = nn.CrossEntropyLoss(), metrics=accuracy)"
      ],
      "execution_count": null,
      "outputs": []
    },
    {
      "cell_type": "code",
      "metadata": {
        "id": "h7xrsQ3-VHdB"
      },
      "source": [
        "print(learn.summary())"
      ],
      "execution_count": null,
      "outputs": []
    },
    {
      "cell_type": "code",
      "metadata": {
        "scrolled": false,
        "id": "7_5esx5xVHdB"
      },
      "source": [
        "learn.fit_one_cycle(100, max_lr=3e-3)"
      ],
      "execution_count": null,
      "outputs": []
    },
    {
      "cell_type": "code",
      "metadata": {
        "id": "8EJIDmNCVHdC"
      },
      "source": [
        "print(\"Number of examples in testing:\", len(data.valid_ds))"
      ],
      "execution_count": null,
      "outputs": []
    },
    {
      "cell_type": "code",
      "metadata": {
        "id": "h9Ep1uKoVHdC"
      },
      "source": [
        "probs,targets = learn.get_preds(ds_type=DatasetType.Valid) "
      ],
      "execution_count": null,
      "outputs": []
    },
    {
      "cell_type": "code",
      "metadata": {
        "id": "c5eOHq91VHdC"
      },
      "source": [
        "accuracy(probs,targets)"
      ],
      "execution_count": null,
      "outputs": []
    },
    {
      "cell_type": "code",
      "metadata": {
        "id": "ReYlE-aUVHdD"
      },
      "source": [
        "data.classes, data.c, len(data.train_ds), len(data.valid_ds)"
      ],
      "execution_count": null,
      "outputs": []
    },
    {
      "cell_type": "code",
      "metadata": {
        "id": "Hy0IB2RFVHdD"
      },
      "source": [
        "probs = np.argmax(probs, axis=1)\n",
        "correct = 0\n",
        "for idx, pred in enumerate(probs):\n",
        "    if pred == targets[idx]:\n",
        "        correct += 1\n",
        "accuracy = correct / len(probs)\n",
        "print(len(probs), correct, accuracy)\n",
        "\n",
        "from sklearn.metrics import confusion_matrix\n",
        "np.set_printoptions(threshold=np.inf) \n",
        "cm1 = confusion_matrix(targets, probs)\n",
        "print(cm1)\n",
        "\n",
        "from sklearn.metrics import classification_report\n",
        "y_true1 = targets\n",
        "y_pred1 = probs\n",
        "target_names = ['Covid-19', 'No_findings']\n",
        "print(classification_report(y_true1, y_pred1, target_names=target_names))"
      ],
      "execution_count": null,
      "outputs": []
    },
    {
      "cell_type": "code",
      "metadata": {
        "id": "34mOFELDVHdE"
      },
      "source": [
        "interp = ClassificationInterpretation.from_learner(learn)"
      ],
      "execution_count": null,
      "outputs": []
    },
    {
      "cell_type": "code",
      "metadata": {
        "id": "WlnjlTt8VHdE"
      },
      "source": [
        "cm_fig = interp.plot_confusion_matrix(return_fig=True)\n",
        "ax = cm_fig.gca()\n",
        "ax.set_ylim(interp.data.c - .5, - .5);"
      ],
      "execution_count": null,
      "outputs": []
    },
    {
      "cell_type": "markdown",
      "metadata": {
        "id": "ZzHOjo42MPrj"
      },
      "source": [
        "# DENSENET121"
      ]
    },
    {
      "cell_type": "code",
      "metadata": {
        "id": "YnxCNDtVWqtR"
      },
      "source": [
        "learn_dense = cnn_learner(data, models.densenet121, metrics = error_rate)"
      ],
      "execution_count": null,
      "outputs": []
    },
    {
      "cell_type": "code",
      "metadata": {
        "id": "o2t9IRL2W0_3"
      },
      "source": [
        "print(learn_dense.summary())"
      ],
      "execution_count": null,
      "outputs": []
    },
    {
      "cell_type": "code",
      "metadata": {
        "id": "byZJyihDW4Gj"
      },
      "source": [
        "learn_dense.fit(20)"
      ],
      "execution_count": null,
      "outputs": []
    },
    {
      "cell_type": "code",
      "metadata": {
        "id": "qnNyD7-ULgih"
      },
      "source": [
        "learn_dense.recorder.plot_losses()"
      ],
      "execution_count": null,
      "outputs": []
    },
    {
      "cell_type": "code",
      "metadata": {
        "id": "8-sBI7aEMvsA"
      },
      "source": [
        "probs,targets = learn_dense.get_preds(ds_type=DatasetType.Valid) "
      ],
      "execution_count": null,
      "outputs": []
    },
    {
      "cell_type": "code",
      "metadata": {
        "id": "B6GmRrtuM0GB"
      },
      "source": [
        "accuracy(probs,targets)"
      ],
      "execution_count": null,
      "outputs": []
    },
    {
      "cell_type": "code",
      "metadata": {
        "id": "dxVNWEvNM0v_"
      },
      "source": [
        "probs = np.argmax(probs, axis=1)\n",
        "correct = 0\n",
        "for idx, pred in enumerate(probs):\n",
        "    if pred == targets[idx]:\n",
        "        correct += 1\n",
        "accuracy = correct / len(probs)\n",
        "print(len(probs), correct, accuracy)\n",
        "\n",
        "from sklearn.metrics import confusion_matrix\n",
        "np.set_printoptions(threshold=np.inf) # shows whole confusion matrix\n",
        "cm1 = confusion_matrix(targets, probs)\n",
        "print(cm1)\n",
        "\n",
        "from sklearn.metrics import classification_report\n",
        "y_true1 = targets\n",
        "y_pred1 = probs\n",
        "target_names = ['Covid-19', 'No_findings', 'Pneumonia']\n",
        "print(classification_report(y_true1, y_pred1, target_names=target_names))"
      ],
      "execution_count": null,
      "outputs": []
    },
    {
      "cell_type": "code",
      "metadata": {
        "id": "qARKvqwCM80P"
      },
      "source": [
        "interp = ClassificationInterpretation.from_learner(learn_dense)"
      ],
      "execution_count": null,
      "outputs": []
    },
    {
      "cell_type": "code",
      "metadata": {
        "id": "_eefnNEPdaCX"
      },
      "source": [
        "interp.plot_top_losses(9, figsize=(15,11))"
      ],
      "execution_count": null,
      "outputs": []
    },
    {
      "cell_type": "code",
      "metadata": {
        "id": "uvHZtq8oNAUI"
      },
      "source": [
        "cm_fig = interp.plot_confusion_matrix(return_fig=True)\n",
        "ax = cm_fig.gca()\n",
        "ax.set_ylim(interp.data.c - .5, - .5);"
      ],
      "execution_count": null,
      "outputs": []
    },
    {
      "cell_type": "markdown",
      "metadata": {
        "id": "3QT3xeLLWd0S"
      },
      "source": [
        "# DENSENET169"
      ]
    },
    {
      "cell_type": "code",
      "metadata": {
        "id": "w_-8PGz5WxTH"
      },
      "source": [
        "learn_dense169 = cnn_learner(data, models.densenet169, metrics = error_rate)"
      ],
      "execution_count": null,
      "outputs": []
    },
    {
      "cell_type": "code",
      "metadata": {
        "id": "XgFWvNFsW9nh"
      },
      "source": [
        "print(learn_dense169.summary())"
      ],
      "execution_count": null,
      "outputs": []
    },
    {
      "cell_type": "code",
      "metadata": {
        "id": "Cwn6vh_vXD_N"
      },
      "source": [
        "learn_dense169.fit(20)"
      ],
      "execution_count": null,
      "outputs": []
    },
    {
      "cell_type": "code",
      "metadata": {
        "id": "9ZixFsOSafHm"
      },
      "source": [
        "learn_dense169.recorder.plot_losses()"
      ],
      "execution_count": null,
      "outputs": []
    },
    {
      "cell_type": "code",
      "metadata": {
        "id": "1Hwf7q0ranpf"
      },
      "source": [
        "probs,targets = learn_dense169.get_preds(ds_type=DatasetType.Valid) "
      ],
      "execution_count": null,
      "outputs": []
    },
    {
      "cell_type": "code",
      "metadata": {
        "id": "vVo_8uhBavar"
      },
      "source": [
        "accuracy(probs,targets)"
      ],
      "execution_count": null,
      "outputs": []
    },
    {
      "cell_type": "code",
      "metadata": {
        "id": "3pYX_DKwa7N6"
      },
      "source": [
        "probs = np.argmax(probs, axis=1)\n",
        "correct = 0\n",
        "for idx, pred in enumerate(probs):\n",
        "    if pred == targets[idx]:\n",
        "        correct += 1\n",
        "accuracy = correct / len(probs)\n",
        "print(len(probs), correct, accuracy)\n",
        "\n",
        "from sklearn.metrics import confusion_matrix\n",
        "np.set_printoptions(threshold=np.inf) # shows whole confusion matrix\n",
        "cm1 = confusion_matrix(targets, probs)\n",
        "print(cm1)\n",
        "\n",
        "from sklearn.metrics import classification_report\n",
        "y_true1 = targets\n",
        "y_pred1 = probs\n",
        "target_names = ['Covid-19', 'No_findings', 'Pneumonia']\n",
        "print(classification_report(y_true1, y_pred1, target_names=target_names))"
      ],
      "execution_count": null,
      "outputs": []
    },
    {
      "cell_type": "code",
      "metadata": {
        "id": "DpcgCnN8a_UZ"
      },
      "source": [
        "interp = ClassificationInterpretation.from_learner(learn_dense169)"
      ],
      "execution_count": null,
      "outputs": []
    },
    {
      "cell_type": "code",
      "metadata": {
        "id": "AhMWq8ksbEaE"
      },
      "source": [
        "cm_fig = interp.plot_confusion_matrix(return_fig=True)\n",
        "ax = cm_fig.gca()\n",
        "ax.set_ylim(interp.data.c - .5, - .5);"
      ],
      "execution_count": null,
      "outputs": []
    },
    {
      "cell_type": "markdown",
      "metadata": {
        "id": "tMLYD7AcsgZ6"
      },
      "source": [
        "# RESNET34"
      ]
    },
    {
      "cell_type": "code",
      "metadata": {
        "id": "8saXySigh3zV"
      },
      "source": [
        "learn_res34 = cnn_learner(data, models.resnet34, metrics = error_rate)"
      ],
      "execution_count": null,
      "outputs": []
    },
    {
      "cell_type": "code",
      "metadata": {
        "id": "04PSjPeFiA4L"
      },
      "source": [
        "print(learn_res34.summary())"
      ],
      "execution_count": null,
      "outputs": []
    },
    {
      "cell_type": "code",
      "metadata": {
        "id": "qgeYvJMKiEXV"
      },
      "source": [
        "learn_res34.fit(20)"
      ],
      "execution_count": null,
      "outputs": []
    },
    {
      "cell_type": "code",
      "metadata": {
        "id": "XmWQvd8wrlEg"
      },
      "source": [
        "learn_res34.recorder.plot_losses()"
      ],
      "execution_count": null,
      "outputs": []
    },
    {
      "cell_type": "code",
      "metadata": {
        "id": "B_k5-apFrrDY"
      },
      "source": [
        "probs,targets = learn_res34.get_preds(ds_type=DatasetType.Valid) "
      ],
      "execution_count": null,
      "outputs": []
    },
    {
      "cell_type": "code",
      "metadata": {
        "id": "TUMPPCrErxOi"
      },
      "source": [
        "probs = np.argmax(probs, axis=1)\n",
        "correct = 0\n",
        "for idx, pred in enumerate(probs):\n",
        "    if pred == targets[idx]:\n",
        "        correct += 1\n",
        "accuracy = correct / len(probs)\n",
        "print(len(probs), correct, accuracy)\n",
        "\n",
        "from sklearn.metrics import confusion_matrix\n",
        "np.set_printoptions(threshold=np.inf) # shows whole confusion matrix\n",
        "cm1 = confusion_matrix(targets, probs)\n",
        "print(cm1)\n",
        "\n",
        "from sklearn.metrics import classification_report\n",
        "y_true1 = targets\n",
        "y_pred1 = probs\n",
        "target_names = ['Covid-19', 'No_findings', 'Pneumonia']\n",
        "print(classification_report(y_true1, y_pred1, target_names=target_names))"
      ],
      "execution_count": null,
      "outputs": []
    },
    {
      "cell_type": "code",
      "metadata": {
        "id": "NIKBlOQYr-9e"
      },
      "source": [
        "interp = ClassificationInterpretation.from_learner(learn_res34)"
      ],
      "execution_count": null,
      "outputs": []
    },
    {
      "cell_type": "code",
      "metadata": {
        "id": "1CtlfkvTsFBY"
      },
      "source": [
        "cm_fig = interp.plot_confusion_matrix(return_fig=True)\n",
        "ax = cm_fig.gca()\n",
        "ax.set_ylim(interp.data.c - .5, - .5);"
      ],
      "execution_count": null,
      "outputs": []
    }
  ]
}